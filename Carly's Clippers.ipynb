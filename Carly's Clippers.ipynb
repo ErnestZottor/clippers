{
 "cells": [
  {
   "cell_type": "code",
   "execution_count": 1,
   "id": "5b4db521",
   "metadata": {},
   "outputs": [
    {
     "name": "stdout",
     "output_type": "stream",
     "text": [
      "Average Haircut Price: 31.875\n"
     ]
    }
   ],
   "source": [
    "hairstyles = [\"bouffant\", \"pixie\", \"dreadlocks\", \"crew\", \"bowl\", \"bob\", \"mohawk\", \"flattop\"]\n",
    "\n",
    "prices = [30, 25, 40, 20, 20, 35, 50, 35]\n",
    "\n",
    "last_week = [2, 3, 5, 8, 4, 4, 6, 2]\n",
    "\n",
    "#Question1\n",
    "total_price =0\n",
    "#question2\n",
    "for price in prices:\n",
    "    total_price += price\n",
    "\n",
    "#question 3\n",
    "average_price = total_price/len(prices)\n",
    "\n",
    "#Question 4\n",
    "print(\"Average Haircut Price: \"+ str(average_price))"
   ]
  },
  {
   "cell_type": "code",
   "execution_count": 2,
   "id": "8b5bea58",
   "metadata": {},
   "outputs": [
    {
     "name": "stdout",
     "output_type": "stream",
     "text": [
      "[25, 20, 35, 15, 15, 30, 45, 30]\n"
     ]
    }
   ],
   "source": [
    "#question 5\n",
    "new_prices = [price-5 for price in prices]\n",
    "\n",
    "#question 6\n",
    "print(new_prices)"
   ]
  },
  {
   "cell_type": "code",
   "execution_count": 3,
   "id": "93f88623",
   "metadata": {},
   "outputs": [
    {
     "name": "stdout",
     "output_type": "stream",
     "text": [
      "Total Revenue: 1085\n"
     ]
    }
   ],
   "source": [
    "#question 7\n",
    "total_revenue = 0\n",
    "#question 8\n",
    "for i in range(len(hairstyles)):\n",
    "    total_revenue+= prices[i]*last_week[i]\n",
    "\n",
    "#question 9\n",
    "print('Total Revenue: '+ str(total_revenue))\n",
    "\n"
   ]
  },
  {
   "cell_type": "code",
   "execution_count": 4,
   "id": "484c7047",
   "metadata": {},
   "outputs": [
    {
     "name": "stdout",
     "output_type": "stream",
     "text": [
      "155.0\n"
     ]
    }
   ],
   "source": [
    "#question 10\n",
    "average_daily_revenue = float(total_revenue)/7 \n",
    "print(average_daily_revenue)\n",
    "\n"
   ]
  },
  {
   "cell_type": "code",
   "execution_count": 5,
   "id": "5ac83807",
   "metadata": {},
   "outputs": [
    {
     "name": "stdout",
     "output_type": "stream",
     "text": [
      "['bouffant', 'pixie', 'crew', 'bowl']\n"
     ]
    }
   ],
   "source": [
    "#question 11\n",
    "cuts_under_30 = [hairstyles[i] for i in range(len(hairstyles ))if new_prices[i]<30]\n",
    "#question 12\n",
    "print(cuts_under_30)"
   ]
  },
  {
   "cell_type": "code",
   "execution_count": null,
   "id": "5223a884",
   "metadata": {},
   "outputs": [],
   "source": []
  }
 ],
 "metadata": {
  "kernelspec": {
   "display_name": "Python 3",
   "language": "python",
   "name": "python3"
  },
  "language_info": {
   "codemirror_mode": {
    "name": "ipython",
    "version": 3
   },
   "file_extension": ".py",
   "mimetype": "text/x-python",
   "name": "python",
   "nbconvert_exporter": "python",
   "pygments_lexer": "ipython3",
   "version": "3.8.8"
  }
 },
 "nbformat": 4,
 "nbformat_minor": 5
}
